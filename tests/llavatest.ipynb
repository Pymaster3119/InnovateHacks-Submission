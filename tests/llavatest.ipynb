{
 "cells": [
  {
   "cell_type": "code",
   "execution_count": 13,
   "metadata": {},
   "outputs": [],
   "source": [
    "import sys\n",
    "import random\n",
    "import httpx\n",
    "\n",
    "from ollama import generate\n",
    "\n",
    "system_prompt = \"\"\"You are an automation helper to navigate web pages to fulfill task. Output only in the following pattern: \"<xpath-query-string>\", <action>.  Xpath query must be to a form field, button or link and must be a full absolute path starting from the body tag of the document to the element. The action must be one of: \"enter\" or \"click\". Do not generate anything else, and make sure that the xpath-query-string that can identify elements on the page rather than a placeholder.\"\"\""
   ]
  },
  {
   "cell_type": "code",
   "execution_count": 14,
   "metadata": {},
   "outputs": [
    {
     "name": "stdout",
     "output_type": "stream",
     "text": [
      " To search for your tax account with the provided address, you can use the following XPath query:\n",
      "\n",
      "```xpath\n",
      "//input[@name='account']\n",
      "```\n",
      "\n",
      "To click on this input field to start your search, you can use the following XPath expression:\n",
      "\n",
      "```xpath\n",
      "/html[1]/body[1]/div[12]/form[1]/div[2]/input[1]\n",
      "```\n",
      "\n",
      "After entering your account information and searching for your tax account, make sure to fill out all required fields. "
     ]
    }
   ],
   "source": [
    "with open('testscreenshot.png', 'rb') as f:\n",
    "  raw_content = f.read()\n",
    "for response in generate('llava', 'Find my tax account. My address is \"123 Main St. Pretoria, NY 07058\"', system=system_prompt, images=[raw_content], stream=True):\n",
    "  print(response['response'], end='', flush=True)"
   ]
  },
  {
   "cell_type": "code",
   "execution_count": null,
   "metadata": {},
   "outputs": [],
   "source": []
  },
  {
   "cell_type": "code",
   "execution_count": null,
   "metadata": {},
   "outputs": [],
   "source": []
  }
 ],
 "metadata": {
  "kernelspec": {
   "display_name": "openai",
   "language": "python",
   "name": "python3"
  },
  "language_info": {
   "codemirror_mode": {
    "name": "ipython",
    "version": 3
   },
   "file_extension": ".py",
   "mimetype": "text/x-python",
   "name": "python",
   "nbconvert_exporter": "python",
   "pygments_lexer": "ipython3",
   "version": "3.9.16"
  }
 },
 "nbformat": 4,
 "nbformat_minor": 2
}
